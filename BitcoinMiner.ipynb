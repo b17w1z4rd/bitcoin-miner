{
  "nbformat": 4,
  "nbformat_minor": 0,
  "metadata": {
    "colab": {
      "provenance": []
    },
    "kernelspec": {
      "name": "python3",
      "display_name": "Python 3"
    },
    "language_info": {
      "name": "python"
    }
  },
  "cells": [
    {
      "cell_type": "code",
      "execution_count": 5,
      "metadata": {
        "colab": {
          "base_uri": "https://localhost:8080/",
          "height": 52
        },
        "id": "tMK8Zkj9-XAE",
        "outputId": "977f0a59-bdf0-4240-9120-f36802042558"
      },
      "outputs": [
        {
          "output_type": "stream",
          "name": "stdout",
          "text": [
            "Found Hash with Nonce :98506\n"
          ]
        },
        {
          "output_type": "execute_result",
          "data": {
            "text/plain": [
              "'00008b54c72f51955d09df28288e145ee05e02bfdc005ed6836e1e30a55a4871'"
            ],
            "application/vnd.google.colaboratory.intrinsic+json": {
              "type": "string"
            }
          },
          "metadata": {},
          "execution_count": 5
        }
      ],
      "source": [
        "import hashlib\n",
        "\n",
        "NONCE_LIMIT=1000000000\n",
        "zeroes = 4\n",
        "\n",
        "def mine(block_number, transactions, previous_hash):\n",
        "  for nonce in range(NONCE_LIMIT):\n",
        "    base_text = str(block_number) + transactions + previous_hash + str(nonce)\n",
        "    hash_try = hashlib.sha256(base_text.encode()).hexdigest()\n",
        "    if hash_try.startswith('0' * zeroes):\n",
        "      print(f\"Found Hash with Nonce :{nonce}\")\n",
        "      return hash_try\n",
        "\n",
        "  return -1\n",
        "\n",
        "block_number=24\n",
        "transactions =\"76123fcc2141\"\n",
        "previous_hash = \"876de8756b967c87\"\n",
        "\n",
        "mine(block_number, transactions, previous_hash)\n",
        "\n",
        "\n",
        "\n"
      ]
    }
  ]
}